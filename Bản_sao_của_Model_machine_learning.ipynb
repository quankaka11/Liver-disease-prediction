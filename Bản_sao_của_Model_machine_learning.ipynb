{
  "cells": [
    {
      "cell_type": "markdown",
      "metadata": {
        "id": "ekCPbqdBkieV"
      },
      "source": [
        "# Chạy mô hình dự đoán ưng thu bệnh gan\n"
      ]
    },
    {
      "cell_type": "code",
      "execution_count": null,
      "metadata": {
        "colab": {
          "base_uri": "https://localhost:8080/"
        },
        "id": "JKuyuFnBNi6_",
        "outputId": "3c247120-fee0-48be-bc54-2d7d6e35e565"
      },
      "outputs": [
        {
          "name": "stdout",
          "output_type": "stream",
          "text": [
            "Mounted at /content/drive\n"
          ]
        }
      ],
      "source": [
        "from google.colab import drive\n",
        "drive.mount('/content/drive')"
      ]
    },
    {
      "cell_type": "markdown",
      "metadata": {
        "id": "YavSB0Aq9hWU"
      },
      "source": [
        "## Xử lý dữ liệu"
      ]
    },
    {
      "cell_type": "code",
      "execution_count": 6,
      "metadata": {
        "id": "UXe3BQQ3oIrm"
      },
      "outputs": [],
      "source": [
        "import pandas as pd\n",
        "import numpy as np\n",
        "import matplotlib.pyplot as plt\n",
        "import seaborn as sns\n",
        "%matplotlib inline"
      ]
    },
    {
      "cell_type": "code",
      "execution_count": 7,
      "metadata": {
        "colab": {
          "base_uri": "https://localhost:8080/",
          "height": 226
        },
        "id": "Bv7usnqIoWG1",
        "outputId": "f4cbae38-6e74-424f-b6fa-33cad42d30e2"
      },
      "outputs": [
        {
          "data": {
            "text/html": [
              "<div>\n",
              "<style scoped>\n",
              "    .dataframe tbody tr th:only-of-type {\n",
              "        vertical-align: middle;\n",
              "    }\n",
              "\n",
              "    .dataframe tbody tr th {\n",
              "        vertical-align: top;\n",
              "    }\n",
              "\n",
              "    .dataframe thead th {\n",
              "        text-align: right;\n",
              "    }\n",
              "</style>\n",
              "<table border=\"1\" class=\"dataframe\">\n",
              "  <thead>\n",
              "    <tr style=\"text-align: right;\">\n",
              "      <th></th>\n",
              "      <th>Age</th>\n",
              "      <th>Gender</th>\n",
              "      <th>Total_Bilirubin</th>\n",
              "      <th>Direct_Bilirubin</th>\n",
              "      <th>Alkaline_Phosphotase</th>\n",
              "      <th>Alamine_Aminotransferase</th>\n",
              "      <th>Aspartate_Aminotransferase</th>\n",
              "      <th>Total_Protiens</th>\n",
              "      <th>Albumin</th>\n",
              "      <th>Albumin_and_Globulin_Ratio</th>\n",
              "      <th>Dataset</th>\n",
              "    </tr>\n",
              "  </thead>\n",
              "  <tbody>\n",
              "    <tr>\n",
              "      <th>0</th>\n",
              "      <td>65</td>\n",
              "      <td>Female</td>\n",
              "      <td>0.7</td>\n",
              "      <td>0.1</td>\n",
              "      <td>187</td>\n",
              "      <td>16</td>\n",
              "      <td>18</td>\n",
              "      <td>6.8</td>\n",
              "      <td>3.3</td>\n",
              "      <td>0.90</td>\n",
              "      <td>1</td>\n",
              "    </tr>\n",
              "    <tr>\n",
              "      <th>1</th>\n",
              "      <td>62</td>\n",
              "      <td>Male</td>\n",
              "      <td>10.9</td>\n",
              "      <td>5.5</td>\n",
              "      <td>699</td>\n",
              "      <td>64</td>\n",
              "      <td>100</td>\n",
              "      <td>7.5</td>\n",
              "      <td>3.2</td>\n",
              "      <td>0.74</td>\n",
              "      <td>1</td>\n",
              "    </tr>\n",
              "    <tr>\n",
              "      <th>2</th>\n",
              "      <td>62</td>\n",
              "      <td>Male</td>\n",
              "      <td>7.3</td>\n",
              "      <td>4.1</td>\n",
              "      <td>490</td>\n",
              "      <td>60</td>\n",
              "      <td>68</td>\n",
              "      <td>7.0</td>\n",
              "      <td>3.3</td>\n",
              "      <td>0.89</td>\n",
              "      <td>1</td>\n",
              "    </tr>\n",
              "    <tr>\n",
              "      <th>3</th>\n",
              "      <td>58</td>\n",
              "      <td>Male</td>\n",
              "      <td>1.0</td>\n",
              "      <td>0.4</td>\n",
              "      <td>182</td>\n",
              "      <td>14</td>\n",
              "      <td>20</td>\n",
              "      <td>6.8</td>\n",
              "      <td>3.4</td>\n",
              "      <td>1.00</td>\n",
              "      <td>1</td>\n",
              "    </tr>\n",
              "    <tr>\n",
              "      <th>4</th>\n",
              "      <td>72</td>\n",
              "      <td>Male</td>\n",
              "      <td>3.9</td>\n",
              "      <td>2.0</td>\n",
              "      <td>195</td>\n",
              "      <td>27</td>\n",
              "      <td>59</td>\n",
              "      <td>7.3</td>\n",
              "      <td>2.4</td>\n",
              "      <td>0.40</td>\n",
              "      <td>1</td>\n",
              "    </tr>\n",
              "  </tbody>\n",
              "</table>\n",
              "</div>"
            ],
            "text/plain": [
              "   Age  Gender  Total_Bilirubin  Direct_Bilirubin  Alkaline_Phosphotase  \\\n",
              "0   65  Female              0.7               0.1                   187   \n",
              "1   62    Male             10.9               5.5                   699   \n",
              "2   62    Male              7.3               4.1                   490   \n",
              "3   58    Male              1.0               0.4                   182   \n",
              "4   72    Male              3.9               2.0                   195   \n",
              "\n",
              "   Alamine_Aminotransferase  Aspartate_Aminotransferase  Total_Protiens  \\\n",
              "0                        16                          18             6.8   \n",
              "1                        64                         100             7.5   \n",
              "2                        60                          68             7.0   \n",
              "3                        14                          20             6.8   \n",
              "4                        27                          59             7.3   \n",
              "\n",
              "   Albumin  Albumin_and_Globulin_Ratio  Dataset  \n",
              "0      3.3                        0.90        1  \n",
              "1      3.2                        0.74        1  \n",
              "2      3.3                        0.89        1  \n",
              "3      3.4                        1.00        1  \n",
              "4      2.4                        0.40        1  "
            ]
          },
          "execution_count": 7,
          "metadata": {},
          "output_type": "execute_result"
        }
      ],
      "source": [
        "data=pd.read_csv(\"indian_liver_patient.csv\")\n",
        "data.head()"
      ]
    },
    {
      "cell_type": "code",
      "execution_count": 8,
      "metadata": {
        "colab": {
          "base_uri": "https://localhost:8080/"
        },
        "id": "j3jhjhIx9nU8",
        "outputId": "ccc46f16-be80-4e6b-d6b0-4940e6d49ed0"
      },
      "outputs": [
        {
          "name": "stdout",
          "output_type": "stream",
          "text": [
            "<class 'pandas.core.frame.DataFrame'>\n",
            "RangeIndex: 583 entries, 0 to 582\n",
            "Data columns (total 11 columns):\n",
            " #   Column                      Non-Null Count  Dtype  \n",
            "---  ------                      --------------  -----  \n",
            " 0   Age                         583 non-null    int64  \n",
            " 1   Gender                      583 non-null    object \n",
            " 2   Total_Bilirubin             583 non-null    float64\n",
            " 3   Direct_Bilirubin            583 non-null    float64\n",
            " 4   Alkaline_Phosphotase        583 non-null    int64  \n",
            " 5   Alamine_Aminotransferase    583 non-null    int64  \n",
            " 6   Aspartate_Aminotransferase  583 non-null    int64  \n",
            " 7   Total_Protiens              583 non-null    float64\n",
            " 8   Albumin                     583 non-null    float64\n",
            " 9   Albumin_and_Globulin_Ratio  579 non-null    float64\n",
            " 10  Dataset                     583 non-null    int64  \n",
            "dtypes: float64(5), int64(5), object(1)\n",
            "memory usage: 50.2+ KB\n"
          ]
        }
      ],
      "source": [
        "data.info() #một số trường dữ liệu bị thiếu"
      ]
    },
    {
      "cell_type": "code",
      "execution_count": 9,
      "metadata": {
        "colab": {
          "base_uri": "https://localhost:8080/"
        },
        "id": "rlHkJTv1Ry8d",
        "outputId": "97d77a33-7662-4779-e4b1-82ea12dae93f"
      },
      "outputs": [
        {
          "data": {
            "text/plain": [
              "Age                           0\n",
              "Gender                        0\n",
              "Total_Bilirubin               0\n",
              "Direct_Bilirubin              0\n",
              "Alkaline_Phosphotase          0\n",
              "Alamine_Aminotransferase      0\n",
              "Aspartate_Aminotransferase    0\n",
              "Total_Protiens                0\n",
              "Albumin                       0\n",
              "Albumin_and_Globulin_Ratio    4\n",
              "Dataset                       0\n",
              "dtype: int64"
            ]
          },
          "execution_count": 9,
          "metadata": {},
          "output_type": "execute_result"
        }
      ],
      "source": [
        "data.isna().sum()"
      ]
    },
    {
      "cell_type": "code",
      "execution_count": 10,
      "metadata": {
        "id": "qB2iTec5-Dv1"
      },
      "outputs": [
        {
          "name": "stderr",
          "output_type": "stream",
          "text": [
            "C:\\Users\\FPT\\AppData\\Local\\Temp\\ipykernel_27708\\127385593.py:1: FutureWarning: A value is trying to be set on a copy of a DataFrame or Series through chained assignment using an inplace method.\n",
            "The behavior will change in pandas 3.0. This inplace method will never work because the intermediate object on which we are setting values always behaves as a copy.\n",
            "\n",
            "For example, when doing 'df[col].method(value, inplace=True)', try using 'df.method({col: value}, inplace=True)' or df[col] = df[col].method(value) instead, to perform the operation inplace on the original object.\n",
            "\n",
            "\n",
            "  data['Albumin_and_Globulin_Ratio'].fillna(value=0, inplace=True)  #thay thế các giá trị thiếu bằng 0\n"
          ]
        }
      ],
      "source": [
        "data['Albumin_and_Globulin_Ratio'].fillna(value=0, inplace=True)  #thay thế các giá trị thiếu bằng 0"
      ]
    },
    {
      "cell_type": "markdown",
      "metadata": {
        "id": "KN8VBRsp-Y56"
      },
      "source": [
        "### Gán bệnh nhân mắc bệnh là 1, không mắc bệnh là 0\n"
      ]
    },
    {
      "cell_type": "code",
      "execution_count": 11,
      "metadata": {
        "id": "OUUa5mMB-fQY"
      },
      "outputs": [],
      "source": [
        "data['Dataset'] = data['Dataset'].map({2:0,1:1})"
      ]
    },
    {
      "cell_type": "code",
      "execution_count": 12,
      "metadata": {
        "colab": {
          "base_uri": "https://localhost:8080/"
        },
        "id": "uZLmzaLC-lkH",
        "outputId": "eda10bde-203e-43cf-d56c-26fa2a0d81a0"
      },
      "outputs": [
        {
          "data": {
            "text/plain": [
              "Dataset\n",
              "1    416\n",
              "0    167\n",
              "Name: count, dtype: int64"
            ]
          },
          "execution_count": 12,
          "metadata": {},
          "output_type": "execute_result"
        }
      ],
      "source": [
        "data['Dataset'].value_counts()"
      ]
    },
    {
      "cell_type": "code",
      "execution_count": null,
      "metadata": {
        "colab": {
          "base_uri": "https://localhost:8080/",
          "height": 484
        },
        "id": "qNXPOzA4-sov",
        "outputId": "f94efe92-c218-48b0-e573-8b9993e25e39"
      },
      "outputs": [
        {
          "data": {
            "text/plain": [
              "Text(0, 0.5, 'Frequency')"
            ]
          },
          "execution_count": 66,
          "metadata": {},
          "output_type": "execute_result"
        },
        {
          "data": {
            "image/png": "[encoded data removed]",
            "text/plain": [
              "<Figure size 640x480 with 1 Axes>"
            ]
          },
          "metadata": {},
          "output_type": "display_data"
        }
      ],
      "source": [
        "count_classes = pd.value_counts(data['Dataset'], sort = True).sort_index()\n",
        "count_classes.plot(kind = 'bar')\n",
        "plt.title(\"Liver disease classes histogram\")\n",
        "plt.xlabel(\"Dataset\")\n",
        "plt.ylabel(\"Frequency\")"
      ]
    },
    {
      "cell_type": "markdown",
      "metadata": {
        "id": "odMi8Xt2-yrs"
      },
      "source": [
        "### Tạo bảng tóm tắt\n",
        "\n"
      ]
    },
    {
      "cell_type": "code",
      "execution_count": null,
      "metadata": {
        "colab": {
          "base_uri": "https://localhost:8080/",
          "height": 320
        },
        "id": "TYQJusrL_Gyw",
        "outputId": "029dc057-6ccc-4105-fd9e-1fd4874cdc25"
      },
      "outputs": [
        {
          "data": {
            "application/vnd.google.colaboratory.intrinsic+json": {
              "summary": "{\n  \"name\": \"data\",\n  \"rows\": 8,\n  \"fields\": [\n    {\n      \"column\": \"Age\",\n      \"properties\": {\n        \"dtype\": \"number\",\n        \"std\": 193.19746263630807,\n        \"min\": 4.0,\n        \"max\": 583.0,\n        \"num_unique_values\": 8,\n        \"samples\": [\n          44.74614065180103,\n          45.0,\n          583.0\n        ],\n        \"semantic_type\": \"\",\n        \"description\": \"\"\n      }\n    },\n    {\n      \"column\": \"Total_Bilirubin\",\n      \"properties\": {\n        \"dtype\": \"number\",\n        \"std\": 203.21423966540334,\n        \"min\": 0.4,\n        \"max\": 583.0,\n        \"num_unique_values\": 8,\n        \"samples\": [\n          3.298799313893653,\n          1.0,\n          583.0\n        ],\n        \"semantic_type\": \"\",\n        \"description\": \"\"\n      }\n    },\n    {\n      \"column\": \"Direct_Bilirubin\",\n      \"properties\": {\n        \"dtype\": \"number\",\n        \"std\": 204.91982276311322,\n        \"min\": 0.1,\n        \"max\": 583.0,\n        \"num_unique_values\": 8,\n        \"samples\": [\n          1.486106346483705,\n          0.3,\n          583.0\n        ],\n        \"semantic_type\": \"\",\n        \"description\": \"\"\n      }\n    },\n    {\n      \"column\": \"Alkaline_Phosphotase\",\n      \"properties\": {\n        \"dtype\": \"number\",\n        \"std\": 668.8113528628011,\n        \"min\": 63.0,\n        \"max\": 2110.0,\n        \"num_unique_values\": 8,\n        \"samples\": [\n          290.57632933104634,\n          208.0,\n          583.0\n        ],\n        \"semantic_type\": \"\",\n        \"description\": \"\"\n      }\n    },\n    {\n      \"column\": \"Alamine_Aminotransferase\",\n      \"properties\": {\n        \"dtype\": \"number\",\n        \"std\": 684.4250480910189,\n        \"min\": 10.0,\n        \"max\": 2000.0,\n        \"num_unique_values\": 8,\n        \"samples\": [\n          80.71355060034305,\n          35.0,\n          583.0\n        ],\n        \"semantic_type\": \"\",\n        \"description\": \"\"\n      }\n    },\n    {\n      \"column\": \"Aspartate_Aminotransferase\",\n      \"properties\": {\n        \"dtype\": \"number\",\n        \"std\": 1695.6919519024464,\n        \"min\": 10.0,\n        \"max\": 4929.0,\n        \"num_unique_values\": 8,\n        \"samples\": [\n          109.91080617495712,\n          42.0,\n          583.0\n        ],\n        \"semantic_type\": \"\",\n        \"description\": \"\"\n      }\n    },\n    {\n      \"column\": \"Total_Protiens\",\n      \"properties\": {\n        \"dtype\": \"number\",\n        \"std\": 204.14536092043835,\n        \"min\": 1.0854514840234657,\n        \"max\": 583.0,\n        \"num_unique_values\": 8,\n        \"samples\": [\n          6.483190394511149,\n          6.6,\n          583.0\n        ],\n        \"semantic_type\": \"\",\n        \"description\": \"\"\n      }\n    },\n    {\n      \"column\": \"Albumin\",\n      \"properties\": {\n        \"dtype\": \"number\",\n        \"std\": 205.12531433205643,\n        \"min\": 0.7955188059640255,\n        \"max\": 583.0,\n        \"num_unique_values\": 8,\n        \"samples\": [\n          3.141852487135506,\n          3.1,\n          583.0\n        ],\n        \"semantic_type\": \"\",\n        \"description\": \"\"\n      }\n    },\n    {\n      \"column\": \"Albumin_and_Globulin_Ratio\",\n      \"properties\": {\n        \"dtype\": \"number\",\n        \"std\": 205.78041871893956,\n        \"min\": 0.0,\n        \"max\": 583.0,\n        \"num_unique_values\": 8,\n        \"samples\": [\n          0.9405660377358489,\n          0.92,\n          583.0\n        ],\n        \"semantic_type\": \"\",\n        \"description\": \"\"\n      }\n    },\n    {\n      \"column\": \"Dataset\",\n      \"properties\": {\n        \"dtype\": \"number\",\n        \"std\": 205.91163811390794,\n        \"min\": 0.0,\n        \"max\": 583.0,\n        \"num_unique_values\": 5,\n        \"samples\": [\n          0.7135506003430532,\n          1.0,\n          0.4524901515081165\n        ],\n        \"semantic_type\": \"\",\n        \"description\": \"\"\n      }\n    }\n  ]\n}",
              "type": "dataframe"
            },
            "text/html": [
              "\n",
              "  <div id=\"df-6518e5d4-cd90-42cf-94d8-8f68dce79a44\" class=\"colab-df-container\">\n",
              "    <div>\n",
              "<style scoped>\n",
              "    .dataframe tbody tr th:only-of-type {\n",
              "        vertical-align: middle;\n",
              "    }\n",
              "\n",
              "    .dataframe tbody tr th {\n",
              "        vertical-align: top;\n",
              "    }\n",
              "\n",
              "    .dataframe thead th {\n",
              "        text-align: right;\n",
              "    }\n",
              "</style>\n",
              "<table border=\"1\" class=\"dataframe\">\n",
              "  <thead>\n",
              "    <tr style=\"text-align: right;\">\n",
              "      <th></th>\n",
              "      <th>Age</th>\n",
              "      <th>Total_Bilirubin</th>\n",
              "      <th>Direct_Bilirubin</th>\n",
              "      <th>Alkaline_Phosphotase</th>\n",
              "      <th>Alamine_Aminotransferase</th>\n",
              "      <th>Aspartate_Aminotransferase</th>\n",
              "      <th>Total_Protiens</th>\n",
              "      <th>Albumin</th>\n",
              "      <th>Albumin_and_Globulin_Ratio</th>\n",
              "      <th>Dataset</th>\n",
              "    </tr>\n",
              "  </thead>\n",
              "  <tbody>\n",
              "    <tr>\n",
              "      <th>count</th>\n",
              "      <td>583.000000</td>\n",
              "      <td>583.000000</td>\n",
              "      <td>583.000000</td>\n",
              "      <td>583.000000</td>\n",
              "      <td>583.000000</td>\n",
              "      <td>583.000000</td>\n",
              "      <td>583.000000</td>\n",
              "      <td>583.000000</td>\n",
              "      <td>583.000000</td>\n",
              "      <td>583.000000</td>\n",
              "    </tr>\n",
              "    <tr>\n",
              "      <th>mean</th>\n",
              "      <td>44.746141</td>\n",
              "      <td>3.298799</td>\n",
              "      <td>1.486106</td>\n",
              "      <td>290.576329</td>\n",
              "      <td>80.713551</td>\n",
              "      <td>109.910806</td>\n",
              "      <td>6.483190</td>\n",
              "      <td>3.141852</td>\n",
              "      <td>0.940566</td>\n",
              "      <td>0.713551</td>\n",
              "    </tr>\n",
              "    <tr>\n",
              "      <th>std</th>\n",
              "      <td>16.189833</td>\n",
              "      <td>6.209522</td>\n",
              "      <td>2.808498</td>\n",
              "      <td>242.937989</td>\n",
              "      <td>182.620356</td>\n",
              "      <td>288.918529</td>\n",
              "      <td>1.085451</td>\n",
              "      <td>0.795519</td>\n",
              "      <td>0.327962</td>\n",
              "      <td>0.452490</td>\n",
              "    </tr>\n",
              "    <tr>\n",
              "      <th>min</th>\n",
              "      <td>4.000000</td>\n",
              "      <td>0.400000</td>\n",
              "      <td>0.100000</td>\n",
              "      <td>63.000000</td>\n",
              "      <td>10.000000</td>\n",
              "      <td>10.000000</td>\n",
              "      <td>2.700000</td>\n",
              "      <td>0.900000</td>\n",
              "      <td>0.000000</td>\n",
              "      <td>0.000000</td>\n",
              "    </tr>\n",
              "    <tr>\n",
              "      <th>25%</th>\n",
              "      <td>33.000000</td>\n",
              "      <td>0.800000</td>\n",
              "      <td>0.200000</td>\n",
              "      <td>175.500000</td>\n",
              "      <td>23.000000</td>\n",
              "      <td>25.000000</td>\n",
              "      <td>5.800000</td>\n",
              "      <td>2.600000</td>\n",
              "      <td>0.700000</td>\n",
              "      <td>0.000000</td>\n",
              "    </tr>\n",
              "    <tr>\n",
              "      <th>50%</th>\n",
              "      <td>45.000000</td>\n",
              "      <td>1.000000</td>\n",
              "      <td>0.300000</td>\n",
              "      <td>208.000000</td>\n",
              "      <td>35.000000</td>\n",
              "      <td>42.000000</td>\n",
              "      <td>6.600000</td>\n",
              "      <td>3.100000</td>\n",
              "      <td>0.920000</td>\n",
              "      <td>1.000000</td>\n",
              "    </tr>\n",
              "    <tr>\n",
              "      <th>75%</th>\n",
              "      <td>58.000000</td>\n",
              "      <td>2.600000</td>\n",
              "      <td>1.300000</td>\n",
              "      <td>298.000000</td>\n",
              "      <td>60.500000</td>\n",
              "      <td>87.000000</td>\n",
              "      <td>7.200000</td>\n",
              "      <td>3.800000</td>\n",
              "      <td>1.100000</td>\n",
              "      <td>1.000000</td>\n",
              "    </tr>\n",
              "    <tr>\n",
              "      <th>max</th>\n",
              "      <td>90.000000</td>\n",
              "      <td>75.000000</td>\n",
              "      <td>19.700000</td>\n",
              "      <td>2110.000000</td>\n",
              "      <td>2000.000000</td>\n",
              "      <td>4929.000000</td>\n",
              "      <td>9.600000</td>\n",
              "      <td>5.500000</td>\n",
              "      <td>2.800000</td>\n",
              "      <td>1.000000</td>\n",
              "    </tr>\n",
              "  </tbody>\n",
              "</table>\n",
              "</div>\n",
              "    <div class=\"colab-df-buttons\">\n",
              "\n",
              "  <div class=\"colab-df-container\">\n",
              "    <button class=\"colab-df-convert\" onclick=\"convertToInteractive('df-6518e5d4-cd90-42cf-94d8-8f68dce79a44')\"\n",
              "            title=\"Convert this dataframe to an interactive table.\"\n",
              "            style=\"display:none;\">\n",
              "\n",
              "  <svg xmlns=\"http://www.w3.org/2000/svg\" height=\"24px\" viewBox=\"0 -960 960 960\">\n",
              "    <path d=\"M120-120v-720h720v720H120Zm60-500h600v-160H180v160Zm220 220h160v-160H400v160Zm0 220h160v-160H400v160ZM180-400h160v-160H180v160Zm440 0h160v-160H620v160ZM180-180h160v-160H180v160Zm440 0h160v-160H620v160Z\"/>\n",
              "  </svg>\n",
              "    </button>\n",
              "\n",
              "  <style>\n",
              "    .colab-df-container {\n",
              "      display:flex;\n",
              "      gap: 12px;\n",
              "    }\n",
              "\n",
              "    .colab-df-convert {\n",
              "      background-color: #E8F0FE;\n",
              "      border: none;\n",
              "      border-radius: 50%;\n",
              "      cursor: pointer;\n",
              "      display: none;\n",
              "      fill: #1967D2;\n",
              "      height: 32px;\n",
              "      padding: 0 0 0 0;\n",
              "      width: 32px;\n",
              "    }\n",
              "\n",
              "    .colab-df-convert:hover {\n",
              "      background-color: #E2EBFA;\n",
              "      box-shadow: 0px 1px 2px rgba(60, 64, 67, 0.3), 0px 1px 3px 1px rgba(60, 64, 67, 0.15);\n",
              "      fill: #174EA6;\n",
              "    }\n",
              "\n",
              "    .colab-df-buttons div {\n",
              "      margin-bottom: 4px;\n",
              "    }\n",
              "\n",
              "    [theme=dark] .colab-df-convert {\n",
              "      background-color: #3B4455;\n",
              "      fill: #D2E3FC;\n",
              "    }\n",
              "\n",
              "    [theme=dark] .colab-df-convert:hover {\n",
              "      background-color: #434B5C;\n",
              "      box-shadow: 0px 1px 3px 1px rgba(0, 0, 0, 0.15);\n",
              "      filter: drop-shadow(0px 1px 2px rgba(0, 0, 0, 0.3));\n",
              "      fill: #FFFFFF;\n",
              "    }\n",
              "  </style>\n",
              "\n",
              "    <script>\n",
              "      const buttonEl =\n",
              "        document.querySelector('#df-6518e5d4-cd90-42cf-94d8-8f68dce79a44 button.colab-df-convert');\n",
              "      buttonEl.style.display =\n",
              "        google.colab.kernel.accessAllowed ? 'block' : 'none';\n",
              "\n",
              "      async function convertToInteractive(key) {\n",
              "        const element = document.querySelector('#df-6518e5d4-cd90-42cf-94d8-8f68dce79a44');\n",
              "        const dataTable =\n",
              "          await google.colab.kernel.invokeFunction('convertToInteractive',\n",
              "                                                    [key], {});\n",
              "        if (!dataTable) return;\n",
              "\n",
              "        const docLinkHtml = 'Like what you see? Visit the ' +\n",
              "          '<a target=\"_blank\" href=https://colab.research.google.com/notebooks/data_table.ipynb>data table notebook</a>'\n",
              "          + ' to learn more about interactive tables.';\n",
              "        element.innerHTML = '';\n",
              "        dataTable['output_type'] = 'display_data';\n",
              "        await google.colab.output.renderOutput(dataTable, element);\n",
              "        const docLink = document.createElement('div');\n",
              "        docLink.innerHTML = docLinkHtml;\n",
              "        element.appendChild(docLink);\n",
              "      }\n",
              "    </script>\n",
              "  </div>\n",
              "\n",
              "\n",
              "<div id=\"df-67cb63ad-96c8-4780-aa5c-9e2f1c54493a\">\n",
              "  <button class=\"colab-df-quickchart\" onclick=\"quickchart('df-67cb63ad-96c8-4780-aa5c-9e2f1c54493a')\"\n",
              "            title=\"Suggest charts\"\n",
              "            style=\"display:none;\">\n",
              "\n",
              "<svg xmlns=\"http://www.w3.org/2000/svg\" height=\"24px\"viewBox=\"0 0 24 24\"\n",
              "     width=\"24px\">\n",
              "    <g>\n",
              "        <path d=\"M19 3H5c-1.1 0-2 .9-2 2v14c0 1.1.9 2 2 2h14c1.1 0 2-.9 2-2V5c0-1.1-.9-2-2-2zM9 17H7v-7h2v7zm4 0h-2V7h2v10zm4 0h-2v-4h2v4z\"/>\n",
              "    </g>\n",
              "</svg>\n",
              "  </button>\n",
              "\n",
              "<style>\n",
              "  .colab-df-quickchart {\n",
              "      --bg-color: #E8F0FE;\n",
              "      --fill-color: #1967D2;\n",
              "      --hover-bg-color: #E2EBFA;\n",
              "      --hover-fill-color: #174EA6;\n",
              "      --disabled-fill-color: #AAA;\n",
              "      --disabled-bg-color: #DDD;\n",
              "  }\n",
              "\n",
              "  [theme=dark] .colab-df-quickchart {\n",
              "      --bg-color: #3B4455;\n",
              "      --fill-color: #D2E3FC;\n",
              "      --hover-bg-color: #434B5C;\n",
              "      --hover-fill-color: #FFFFFF;\n",
              "      --disabled-bg-color: #3B4455;\n",
              "      --disabled-fill-color: #666;\n",
              "  }\n",
              "\n",
              "  .colab-df-quickchart {\n",
              "    background-color: var(--bg-color);\n",
              "    border: none;\n",
              "    border-radius: 50%;\n",
              "    cursor: pointer;\n",
              "    display: none;\n",
              "    fill: var(--fill-color);\n",
              "    height: 32px;\n",
              "    padding: 0;\n",
              "    width: 32px;\n",
              "  }\n",
              "\n",
              "  .colab-df-quickchart:hover {\n",
              "    background-color: var(--hover-bg-color);\n",
              "    box-shadow: 0 1px 2px rgba(60, 64, 67, 0.3), 0 1px 3px 1px rgba(60, 64, 67, 0.15);\n",
              "    fill: var(--button-hover-fill-color);\n",
              "  }\n",
              "\n",
              "  .colab-df-quickchart-complete:disabled,\n",
              "  .colab-df-quickchart-complete:disabled:hover {\n",
              "    background-color: var(--disabled-bg-color);\n",
              "    fill: var(--disabled-fill-color);\n",
              "    box-shadow: none;\n",
              "  }\n",
              "\n",
              "  .colab-df-spinner {\n",
              "    border: 2px solid var(--fill-color);\n",
              "    border-color: transparent;\n",
              "    border-bottom-color: var(--fill-color);\n",
              "    animation:\n",
              "      spin 1s steps(1) infinite;\n",
              "  }\n",
              "\n",
              "  @keyframes spin {\n",
              "    0% {\n",
              "      border-color: transparent;\n",
              "      border-bottom-color: var(--fill-color);\n",
              "      border-left-color: var(--fill-color);\n",
              "    }\n",
              "    20% {\n",
              "      border-color: transparent;\n",
              "      border-left-color: var(--fill-color);\n",
              "      border-top-color: var(--fill-color);\n",
              "    }\n",
              "    30% {\n",
              "      border-color: transparent;\n",
              "      border-left-color: var(--fill-color);\n",
              "      border-top-color: var(--fill-color);\n",
              "      border-right-color: var(--fill-color);\n",
              "    }\n",
              "    40% {\n",
              "      border-color: transparent;\n",
              "      border-right-color: var(--fill-color);\n",
              "      border-top-color: var(--fill-color);\n",
              "    }\n",
              "    60% {\n",
              "      border-color: transparent;\n",
              "      border-right-color: var(--fill-color);\n",
              "    }\n",
              "    80% {\n",
              "      border-color: transparent;\n",
              "      border-right-color: var(--fill-color);\n",
              "      border-bottom-color: var(--fill-color);\n",
              "    }\n",
              "    90% {\n",
              "      border-color: transparent;\n",
              "      border-bottom-color: var(--fill-color);\n",
              "    }\n",
              "  }\n",
              "</style>\n",
              "\n",
              "  <script>\n",
              "    async function quickchart(key) {\n",
              "      const quickchartButtonEl =\n",
              "        document.querySelector('#' + key + ' button');\n",
              "      quickchartButtonEl.disabled = true;  // To prevent multiple clicks.\n",
              "      quickchartButtonEl.classList.add('colab-df-spinner');\n",
              "      try {\n",
              "        const charts = await google.colab.kernel.invokeFunction(\n",
              "            'suggestCharts', [key], {});\n",
              "      } catch (error) {\n",
              "        console.error('Error during call to suggestCharts:', error);\n",
              "      }\n",
              "      quickchartButtonEl.classList.remove('colab-df-spinner');\n",
              "      quickchartButtonEl.classList.add('colab-df-quickchart-complete');\n",
              "    }\n",
              "    (() => {\n",
              "      let quickchartButtonEl =\n",
              "        document.querySelector('#df-67cb63ad-96c8-4780-aa5c-9e2f1c54493a button');\n",
              "      quickchartButtonEl.style.display =\n",
              "        google.colab.kernel.accessAllowed ? 'block' : 'none';\n",
              "    })();\n",
              "  </script>\n",
              "</div>\n",
              "\n",
              "    </div>\n",
              "  </div>\n"
            ],
            "text/plain": [
              "              Age  Total_Bilirubin  Direct_Bilirubin  Alkaline_Phosphotase  \\\n",
              "count  583.000000       583.000000        583.000000            583.000000   \n",
              "mean    44.746141         3.298799          1.486106            290.576329   \n",
              "std     16.189833         6.209522          2.808498            242.937989   \n",
              "min      4.000000         0.400000          0.100000             63.000000   \n",
              "25%     33.000000         0.800000          0.200000            175.500000   \n",
              "50%     45.000000         1.000000          0.300000            208.000000   \n",
              "75%     58.000000         2.600000          1.300000            298.000000   \n",
              "max     90.000000        75.000000         19.700000           2110.000000   \n",
              "\n",
              "       Alamine_Aminotransferase  Aspartate_Aminotransferase  Total_Protiens  \\\n",
              "count                583.000000                  583.000000      583.000000   \n",
              "mean                  80.713551                  109.910806        6.483190   \n",
              "std                  182.620356                  288.918529        1.085451   \n",
              "min                   10.000000                   10.000000        2.700000   \n",
              "25%                   23.000000                   25.000000        5.800000   \n",
              "50%                   35.000000                   42.000000        6.600000   \n",
              "75%                   60.500000                   87.000000        7.200000   \n",
              "max                 2000.000000                 4929.000000        9.600000   \n",
              "\n",
              "          Albumin  Albumin_and_Globulin_Ratio     Dataset  \n",
              "count  583.000000                  583.000000  583.000000  \n",
              "mean     3.141852                    0.940566    0.713551  \n",
              "std      0.795519                    0.327962    0.452490  \n",
              "min      0.900000                    0.000000    0.000000  \n",
              "25%      2.600000                    0.700000    0.000000  \n",
              "50%      3.100000                    0.920000    1.000000  \n",
              "75%      3.800000                    1.100000    1.000000  \n",
              "max      5.500000                    2.800000    1.000000  "
            ]
          },
          "execution_count": 67,
          "metadata": {},
          "output_type": "execute_result"
        }
      ],
      "source": [
        "data.describe() #tạo bảng tóm tắt thống kê các thông số đặc trưng"
      ]
    },
    {
      "cell_type": "markdown",
      "metadata": {
        "id": "cIUdyQ1uSIcu"
      },
      "source": [
        "### Tỉ lệ giới tính và mã hóa nó"
      ]
    },
    {
      "cell_type": "code",
      "execution_count": null,
      "metadata": {
        "colab": {
          "base_uri": "https://localhost:8080/",
          "height": 466
        },
        "id": "oW_Sq8FPSIDM",
        "outputId": "fee05f5a-0d02-41d5-ba05-a099b5f15381"
      },
      "outputs": [
        {
          "data": {
            "text/plain": [
              "<Axes: xlabel='Gender', ylabel='count'>"
            ]
          },
          "execution_count": 68,
          "metadata": {},
          "output_type": "execute_result"
        },
        {
          "data": {
            "image/png": "[encoded data removed]",
            "text/plain": [
              "<Figure size 640x480 with 1 Axes>"
            ]
          },
          "metadata": {},
          "output_type": "display_data"
        }
      ],
      "source": [
        "import seaborn as sns\n",
        "sns.countplot(data = data, x='Gender', label='count')"
      ]
    },
    {
      "cell_type": "markdown",
      "metadata": {
        "id": "cG-DIqMiSUkd"
      },
      "source": [
        "#### Mã hóa"
      ]
    },
    {
      "cell_type": "code",
      "execution_count": 14,
      "metadata": {
        "id": "G3bmCmdGSUW-"
      },
      "outputs": [],
      "source": [
        "def partition(x):\n",
        "    if x == 'Male':\n",
        "        return 1\n",
        "    return 0\n",
        "\n",
        "data['Gender'] = data['Gender'].map(partition)"
      ]
    },
    {
      "cell_type": "code",
      "execution_count": 15,
      "metadata": {
        "colab": {
          "base_uri": "https://localhost:8080/",
          "height": 443
        },
        "id": "FXZObWsbSZqI",
        "outputId": "9ff6baea-1b9c-4ebb-ad14-717ecd2ff740"
      },
      "outputs": [
        {
          "data": {
            "text/html": [
              "<div>\n",
              "<style scoped>\n",
              "    .dataframe tbody tr th:only-of-type {\n",
              "        vertical-align: middle;\n",
              "    }\n",
              "\n",
              "    .dataframe tbody tr th {\n",
              "        vertical-align: top;\n",
              "    }\n",
              "\n",
              "    .dataframe thead th {\n",
              "        text-align: right;\n",
              "    }\n",
              "</style>\n",
              "<table border=\"1\" class=\"dataframe\">\n",
              "  <thead>\n",
              "    <tr style=\"text-align: right;\">\n",
              "      <th></th>\n",
              "      <th>Age</th>\n",
              "      <th>Gender</th>\n",
              "      <th>Total_Bilirubin</th>\n",
              "      <th>Direct_Bilirubin</th>\n",
              "      <th>Alkaline_Phosphotase</th>\n",
              "      <th>Alamine_Aminotransferase</th>\n",
              "      <th>Aspartate_Aminotransferase</th>\n",
              "      <th>Total_Protiens</th>\n",
              "      <th>Albumin</th>\n",
              "      <th>Albumin_and_Globulin_Ratio</th>\n",
              "      <th>Dataset</th>\n",
              "    </tr>\n",
              "  </thead>\n",
              "  <tbody>\n",
              "    <tr>\n",
              "      <th>0</th>\n",
              "      <td>65</td>\n",
              "      <td>0</td>\n",
              "      <td>0.7</td>\n",
              "      <td>0.1</td>\n",
              "      <td>187</td>\n",
              "      <td>16</td>\n",
              "      <td>18</td>\n",
              "      <td>6.8</td>\n",
              "      <td>3.3</td>\n",
              "      <td>0.90</td>\n",
              "      <td>1</td>\n",
              "    </tr>\n",
              "    <tr>\n",
              "      <th>1</th>\n",
              "      <td>62</td>\n",
              "      <td>1</td>\n",
              "      <td>10.9</td>\n",
              "      <td>5.5</td>\n",
              "      <td>699</td>\n",
              "      <td>64</td>\n",
              "      <td>100</td>\n",
              "      <td>7.5</td>\n",
              "      <td>3.2</td>\n",
              "      <td>0.74</td>\n",
              "      <td>1</td>\n",
              "    </tr>\n",
              "    <tr>\n",
              "      <th>2</th>\n",
              "      <td>62</td>\n",
              "      <td>1</td>\n",
              "      <td>7.3</td>\n",
              "      <td>4.1</td>\n",
              "      <td>490</td>\n",
              "      <td>60</td>\n",
              "      <td>68</td>\n",
              "      <td>7.0</td>\n",
              "      <td>3.3</td>\n",
              "      <td>0.89</td>\n",
              "      <td>1</td>\n",
              "    </tr>\n",
              "    <tr>\n",
              "      <th>3</th>\n",
              "      <td>58</td>\n",
              "      <td>1</td>\n",
              "      <td>1.0</td>\n",
              "      <td>0.4</td>\n",
              "      <td>182</td>\n",
              "      <td>14</td>\n",
              "      <td>20</td>\n",
              "      <td>6.8</td>\n",
              "      <td>3.4</td>\n",
              "      <td>1.00</td>\n",
              "      <td>1</td>\n",
              "    </tr>\n",
              "    <tr>\n",
              "      <th>4</th>\n",
              "      <td>72</td>\n",
              "      <td>1</td>\n",
              "      <td>3.9</td>\n",
              "      <td>2.0</td>\n",
              "      <td>195</td>\n",
              "      <td>27</td>\n",
              "      <td>59</td>\n",
              "      <td>7.3</td>\n",
              "      <td>2.4</td>\n",
              "      <td>0.40</td>\n",
              "      <td>1</td>\n",
              "    </tr>\n",
              "    <tr>\n",
              "      <th>...</th>\n",
              "      <td>...</td>\n",
              "      <td>...</td>\n",
              "      <td>...</td>\n",
              "      <td>...</td>\n",
              "      <td>...</td>\n",
              "      <td>...</td>\n",
              "      <td>...</td>\n",
              "      <td>...</td>\n",
              "      <td>...</td>\n",
              "      <td>...</td>\n",
              "      <td>...</td>\n",
              "    </tr>\n",
              "    <tr>\n",
              "      <th>578</th>\n",
              "      <td>60</td>\n",
              "      <td>1</td>\n",
              "      <td>0.5</td>\n",
              "      <td>0.1</td>\n",
              "      <td>500</td>\n",
              "      <td>20</td>\n",
              "      <td>34</td>\n",
              "      <td>5.9</td>\n",
              "      <td>1.6</td>\n",
              "      <td>0.37</td>\n",
              "      <td>0</td>\n",
              "    </tr>\n",
              "    <tr>\n",
              "      <th>579</th>\n",
              "      <td>40</td>\n",
              "      <td>1</td>\n",
              "      <td>0.6</td>\n",
              "      <td>0.1</td>\n",
              "      <td>98</td>\n",
              "      <td>35</td>\n",
              "      <td>31</td>\n",
              "      <td>6.0</td>\n",
              "      <td>3.2</td>\n",
              "      <td>1.10</td>\n",
              "      <td>1</td>\n",
              "    </tr>\n",
              "    <tr>\n",
              "      <th>580</th>\n",
              "      <td>52</td>\n",
              "      <td>1</td>\n",
              "      <td>0.8</td>\n",
              "      <td>0.2</td>\n",
              "      <td>245</td>\n",
              "      <td>48</td>\n",
              "      <td>49</td>\n",
              "      <td>6.4</td>\n",
              "      <td>3.2</td>\n",
              "      <td>1.00</td>\n",
              "      <td>1</td>\n",
              "    </tr>\n",
              "    <tr>\n",
              "      <th>581</th>\n",
              "      <td>31</td>\n",
              "      <td>1</td>\n",
              "      <td>1.3</td>\n",
              "      <td>0.5</td>\n",
              "      <td>184</td>\n",
              "      <td>29</td>\n",
              "      <td>32</td>\n",
              "      <td>6.8</td>\n",
              "      <td>3.4</td>\n",
              "      <td>1.00</td>\n",
              "      <td>1</td>\n",
              "    </tr>\n",
              "    <tr>\n",
              "      <th>582</th>\n",
              "      <td>38</td>\n",
              "      <td>1</td>\n",
              "      <td>1.0</td>\n",
              "      <td>0.3</td>\n",
              "      <td>216</td>\n",
              "      <td>21</td>\n",
              "      <td>24</td>\n",
              "      <td>7.3</td>\n",
              "      <td>4.4</td>\n",
              "      <td>1.50</td>\n",
              "      <td>0</td>\n",
              "    </tr>\n",
              "  </tbody>\n",
              "</table>\n",
              "<p>583 rows × 11 columns</p>\n",
              "</div>"
            ],
            "text/plain": [
              "     Age  Gender  Total_Bilirubin  Direct_Bilirubin  Alkaline_Phosphotase  \\\n",
              "0     65       0              0.7               0.1                   187   \n",
              "1     62       1             10.9               5.5                   699   \n",
              "2     62       1              7.3               4.1                   490   \n",
              "3     58       1              1.0               0.4                   182   \n",
              "4     72       1              3.9               2.0                   195   \n",
              "..   ...     ...              ...               ...                   ...   \n",
              "578   60       1              0.5               0.1                   500   \n",
              "579   40       1              0.6               0.1                    98   \n",
              "580   52       1              0.8               0.2                   245   \n",
              "581   31       1              1.3               0.5                   184   \n",
              "582   38       1              1.0               0.3                   216   \n",
              "\n",
              "     Alamine_Aminotransferase  Aspartate_Aminotransferase  Total_Protiens  \\\n",
              "0                          16                          18             6.8   \n",
              "1                          64                         100             7.5   \n",
              "2                          60                          68             7.0   \n",
              "3                          14                          20             6.8   \n",
              "4                          27                          59             7.3   \n",
              "..                        ...                         ...             ...   \n",
              "578                        20                          34             5.9   \n",
              "579                        35                          31             6.0   \n",
              "580                        48                          49             6.4   \n",
              "581                        29                          32             6.8   \n",
              "582                        21                          24             7.3   \n",
              "\n",
              "     Albumin  Albumin_and_Globulin_Ratio  Dataset  \n",
              "0        3.3                        0.90        1  \n",
              "1        3.2                        0.74        1  \n",
              "2        3.3                        0.89        1  \n",
              "3        3.4                        1.00        1  \n",
              "4        2.4                        0.40        1  \n",
              "..       ...                         ...      ...  \n",
              "578      1.6                        0.37        0  \n",
              "579      3.2                        1.10        1  \n",
              "580      3.2                        1.00        1  \n",
              "581      3.4                        1.00        1  \n",
              "582      4.4                        1.50        0  \n",
              "\n",
              "[583 rows x 11 columns]"
            ]
          },
          "execution_count": 15,
          "metadata": {},
          "output_type": "execute_result"
        }
      ],
      "source": [
        "data"
      ]
    },
    {
      "cell_type": "markdown",
      "metadata": {
        "id": "06g_R5o7TQhd"
      },
      "source": [
        "### Chuyển cột data set thành các giá trị 0 và 1\n",
        "#### '1' cho bệnh gan và '2' cho không có bệnh gan vì vậy hãy đặt nó thành 0 cho không có bệnh để thuận tiện"
      ]
    },
    {
      "cell_type": "code",
      "execution_count": null,
      "metadata": {
        "id": "PoOkaXUNTj3N"
      },
      "outputs": [],
      "source": [
        "# def partition(x):\n",
        "#     if x == 2:\n",
        "#         return 0\n",
        "#     return 1\n",
        "\n",
        "# data['Dataset'] = data['Dataset'].map(partition)\n"
      ]
    },
    {
      "cell_type": "code",
      "execution_count": 16,
      "metadata": {
        "colab": {
          "base_uri": "https://localhost:8080/"
        },
        "id": "q0RK7NSvTp3X",
        "outputId": "4fa4334d-7c68-4abd-c81c-fa379d8e3e9e"
      },
      "outputs": [
        {
          "data": {
            "text/plain": [
              "0      1\n",
              "1      1\n",
              "2      1\n",
              "3      1\n",
              "4      1\n",
              "      ..\n",
              "578    0\n",
              "579    1\n",
              "580    1\n",
              "581    1\n",
              "582    0\n",
              "Name: Dataset, Length: 583, dtype: int64"
            ]
          },
          "execution_count": 16,
          "metadata": {},
          "output_type": "execute_result"
        }
      ],
      "source": [
        "data['Dataset']"
      ]
    },
    {
      "cell_type": "markdown",
      "metadata": {
        "id": "xXRElmqmFF9S"
      },
      "source": [
        "### Tạo biểu đồ headmap hiển thị sự tương quan tăng giảm giữa các đối tượng liên quan"
      ]
    },
    {
      "cell_type": "code",
      "execution_count": null,
      "metadata": {
        "colab": {
          "base_uri": "https://localhost:8080/",
          "height": 885
        },
        "id": "qXKHM6Q6UHYG",
        "outputId": "ce511331-a770-40e7-8877-b90f339d0151"
      },
      "outputs": [
        {
          "data": {
            "image/png": "[encoded data removed]",
            "text/plain": [
              "<Figure size 1200x800 with 2 Axes>"
            ]
          },
          "metadata": {},
          "output_type": "display_data"
        }
      ],
      "source": [
        "plt.figure(figsize=(12,8))\n",
        "plt.title('Biểu đồ nhiệt thể hiện sự tương quan giữa các thành phần')\n",
        "sns.heatmap(data.corr(),linewidths=0.25,vmax=1.0, square=True, cmap=\"YlGnBu\", linecolor='black',annot=True)\n",
        "plt.show()"
      ]
    },
    {
      "cell_type": "markdown",
      "metadata": {
        "id": "XKKs_GCsFTEI"
      },
      "source": [
        "## Chạy mô hình"
      ]
    },
    {
      "cell_type": "markdown",
      "metadata": {
        "id": "_rPY0JV5Vn6s"
      },
      "source": [
        "### Chia tập dữ liệu"
      ]
    },
    {
      "cell_type": "code",
      "execution_count": 17,
      "metadata": {
        "id": "Si8baAIxVsB9"
      },
      "outputs": [],
      "source": [
        "X = data.iloc[:, :-1].values\n",
        "y = data.iloc[:, -1].values #dataset"
      ]
    },
    {
      "cell_type": "markdown",
      "metadata": {
        "id": "tnuSBkVzZ4Cn"
      },
      "source": [
        "### Chia thành dữ liệu huấn luyện và kiểm tra\n"
      ]
    },
    {
      "cell_type": "markdown",
      "metadata": {
        "id": "rVx6cDHpavWs"
      },
      "source": [
        "#### Sử dụng kĩ thuật feature scaling và smote (Tính mới)\n",
        "##### Những mô hình thông thường chia dữ liệu 1 cách khá ngẫu nhiên dẫn đến nhiều dữ liệu bị chồng chéo giữa các lớp. Sử dụng kĩ thuật này trước khi chia dữ liệu giúp cải thiện hiệu suất của mô hình phân loại trên dữ liệu mất cân bằng.Thực hiện feature scaling trước (để chuẩn hóa các đặc trưng của dữ liệu), sau đó thực hiện SMOTE để xử lý mất cân bằng dữ liệu."
      ]
    },
    {
      "cell_type": "markdown",
      "metadata": {
        "id": "nUqgJ8jooW3Y"
      },
      "source": [
        "##### Smote - Xư lý mất cân bằng\n",
        "![Công thức](https://drive.google.com/uc?export=view&id=1ZISaQtrjfz4zWlH6GZuTsT2Hw1xNfa-G)"
      ]
    },
    {
      "cell_type": "code",
      "execution_count": 20,
      "metadata": {
        "id": "yz-4IfDFa1ve"
      },
      "outputs": [],
      "source": [
        "import numpy as np\n",
        "from sklearn.neighbors import NearestNeighbors\n",
        "from collections import Counter\n",
        "\n",
        "def smote(X, y, minority_class): # để tăng cường lớp thiểu số\n",
        "    # Tìm các mẫu thuộc lớp thiểu số\n",
        "    X_minority = X[y == minority_class]\n",
        "\n",
        "    # Số lượng mẫu cần tạo thêm\n",
        "    n_minority_samples = X_minority.shape[0]\n",
        "    n_neighbors = 5\n",
        "\n",
        "    # Kết nối k láng giềng gần nhất\n",
        "    neighbors = NearestNeighbors(n_neighbors=n_neighbors + 1).fit(X_minority)\n",
        "    indices = neighbors.kneighbors(X_minority, return_distance=False)[:, 1:]\n",
        "\n",
        "    # Tạo các mẫu tổng hợp\n",
        "    synthetic_samples = []\n",
        "    for i in range(n_minority_samples):\n",
        "        for _ in range(n_neighbors):\n",
        "            nn = np.random.choice(indices[i])\n",
        "            diff = X_minority[nn] - X_minority[i]\n",
        "            synthetic_sample = X_minority[i] + np.random.rand() * diff\n",
        "            synthetic_samples.append(synthetic_sample)\n",
        "\n",
        "    # Chuyển đổi thành numpy array\n",
        "    synthetic_samples = np.array(synthetic_samples)\n",
        "\n",
        "    # Kết hợp với dữ liệu ban đầu\n",
        "    X_resampled = np.vstack((X, synthetic_samples))\n",
        "    y_resampled = np.hstack((y, np.full(synthetic_samples.shape[0], minority_class)))\n",
        "\n",
        "    return X_resampled, y_resampled\n",
        "\n",
        "def tomek_links(X, y): # loại bỏ các mẫu gây nhiễu\n",
        "    from sklearn.neighbors import NearestNeighbors\n",
        "\n",
        "    # Kết nối 1 láng giềng gần nhất\n",
        "    nn = NearestNeighbors(n_neighbors=2).fit(X)\n",
        "    distances, indices = nn.kneighbors(X)\n",
        "\n",
        "    # Tìm Tomek links\n",
        "    tomek_links = []\n",
        "    for i in range(len(X)):\n",
        "        if y[i] != y[indices[i][1]]:\n",
        "            if indices[indices[i][1]][1] == i:\n",
        "                tomek_links.append(i)\n",
        "\n",
        "    # Xóa các mẫu Tomek links\n",
        "    mask = np.ones(len(X), dtype=bool)\n",
        "    mask[tomek_links] = False\n",
        "\n",
        "    return X[mask], y[mask]\n",
        "\n",
        "def smote_tomek(X, y):\n",
        "    # Tìm lớp thiểu số\n",
        "    counter = Counter(y)\n",
        "    majority_class = max(counter, key=counter.get)\n",
        "    minority_class = min(counter, key=counter.get)\n",
        "\n",
        "    # Áp dụng SMOTE\n",
        "    X_resampled, y_resampled = smote(X, y, minority_class)\n",
        "\n",
        "    # Áp dụng Tomek links\n",
        "    X_cleaned, y_cleaned = tomek_links(X_resampled, y_resampled)\n",
        "\n",
        "    return X_cleaned, y_cleaned\n",
        "\n",
        "X_smote, y_smote = smote_tomek(X, y)\n"
      ]
    },
    {
      "cell_type": "markdown",
      "metadata": {
        "id": "FPwfpFj1qJlY"
      },
      "source": [
        "##### Chia dữ liệu"
      ]
    },
    {
      "cell_type": "code",
      "execution_count": 21,
      "metadata": {
        "id": "_Nmj7xoQZ96k"
      },
      "outputs": [],
      "source": [
        "from sklearn.model_selection import train_test_split\n",
        "x_train, x_test, y_train, y_test = train_test_split(X_smote,y_smote, test_size=0.3, random_state=33)"
      ]
    },
    {
      "cell_type": "markdown",
      "metadata": {
        "id": "Zvtdynvfp2HC"
      },
      "source": [
        "##### Feature - Chuẩn hóa\n",
        "![Công thức](https://drive.google.com/uc?export=view&id=1idPkdOEfTfCyrejmJYFeFyGsj5PpV7Zq)"
      ]
    },
    {
      "cell_type": "code",
      "execution_count": 22,
      "metadata": {
        "id": "gdLFBhm6p3Yx"
      },
      "outputs": [],
      "source": [
        "import numpy as np\n",
        "\n",
        "def fit_transform_standard_scaler(x_train):\n",
        "    means = np.mean(x_train, axis=0)\n",
        "    stds = np.std(x_train, axis=0)\n",
        "    x_train = (x_train - means) / stds\n",
        "    return x_train, means, stds\n",
        "\n",
        "# Hàm để chuẩn hóa tập kiểm tra sử dụng các thông số từ tập huấn luyện\n",
        "def transform_standard_scaler(x_test, means, stds):\n",
        "    x_test = (x_test - means) / stds\n",
        "    return x_test\n",
        "\n",
        "# Chuẩn hóa tập huấn luyện và tính toán mean và std\n",
        "x_train, means, stds = fit_transform_standard_scaler(x_train)\n",
        "\n",
        "# Chuẩn hóa tập kiểm tra sử dụng các thông số từ tập huấn luyện\n",
        "x_test = transform_standard_scaler(x_test, means, stds)"
      ]
    },
    {
      "cell_type": "markdown",
      "metadata": {
        "id": "iHfo7KqWFsoh"
      },
      "source": [
        "### RandomForestClassifier"
      ]
    },
    {
      "cell_type": "code",
      "execution_count": 24,
      "metadata": {
        "colab": {
          "base_uri": "https://localhost:8080/"
        },
        "id": "KvXG3Lc6hBgy",
        "outputId": "55521005-6b0d-49a5-c875-b9838c664251"
      },
      "outputs": [
        {
          "name": "stdout",
          "output_type": "stream",
          "text": [
            "Accuracy: 0.7805907172995781\n"
          ]
        },
        {
          "data": {
            "text/plain": [
              "['scaler.pkl']"
            ]
          },
          "execution_count": 24,
          "metadata": {},
          "output_type": "execute_result"
        }
      ],
      "source": [
        "import pandas as pd\n",
        "from sklearn.metrics import accuracy_score\n",
        "from sklearn.ensemble import RandomForestClassifier\n",
        "from sklearn.model_selection import train_test_split\n",
        "from imblearn.combine import SMOTETomek\n",
        "from sklearn.preprocessing import StandardScaler\n",
        "import joblib\n",
        "\n",
        "# Giả sử bạn đã có dữ liệu X và y\n",
        "# X = ...\n",
        "# y = ...\n",
        "\n",
        "# Áp dụng SMOTETomek\n",
        "smote = SMOTETomek()\n",
        "X_smote, y_smote = smote.fit_resample(X, y)\n",
        "\n",
        "# Chia dữ liệu thành tập huấn luyện và tập kiểm tra\n",
        "x_train, x_test, y_train, y_test = train_test_split(X_smote, y_smote, test_size=0.3, random_state=33)\n",
        "\n",
        "# Chuẩn hóa dữ liệu\n",
        "sc = StandardScaler()\n",
        "x_train = sc.fit_transform(x_train)\n",
        "x_test = sc.transform(x_test)\n",
        "\n",
        "# Xây dựng mô hình Random Forest\n",
        "RandomForest = RandomForestClassifier()\n",
        "RandomForest = RandomForest.fit(x_train, y_train)\n",
        "\n",
        "# Dự đoán nhãn trên tập kiểm tra\n",
        "y_pred = RandomForest.predict(x_test)\n",
        "\n",
        "# Tính chỉ số Accuracy và lưu lại\n",
        "accuracy_rf = accuracy_score(y_test, y_pred)\n",
        "print('Accuracy:', accuracy_rf)\n",
        "\n",
        "# Lưu mô hình và scaler\n",
        "joblib.dump(RandomForest, 'random_forest_model.pkl')\n",
        "joblib.dump(sc, 'scaler.pkl')\n"
      ]
    },
    {
      "cell_type": "code",
      "execution_count": null,
      "metadata": {
        "colab": {
          "base_uri": "https://localhost:8080/"
        },
        "id": "bnLtfbFKtpSh",
        "outputId": "ec41e7d9-32f7-4b3d-8985-2b67487f7be2"
      },
      "outputs": [
        {
          "name": "stdout",
          "output_type": "stream",
          "text": [
            "     Actual  Predicted\n",
            "0         0          0\n",
            "1         0          0\n",
            "2         0          0\n",
            "3         0          0\n",
            "4         1          1\n",
            "..      ...        ...\n",
            "410       1          0\n",
            "411       0          0\n",
            "412       0          0\n",
            "413       0          0\n",
            "414       0          0\n",
            "\n",
            "[415 rows x 2 columns]\n"
          ]
        }
      ],
      "source": [
        "# Tạo DataFrame để so sánh y_test và y_pred\n",
        "comparison = pd.DataFrame({'Actual': y_test, 'Predicted': y_pred})\n",
        "\n",
        "# In ra DataFrame\n",
        "print(comparison)"
      ]
    },
    {
      "cell_type": "code",
      "execution_count": null,
      "metadata": {
        "colab": {
          "base_uri": "https://localhost:8080/",
          "height": 564
        },
        "id": "d43DHfUtyGQr",
        "outputId": "c9501b28-74be-4952-b9df-d022155defeb"
      },
      "outputs": [
        {
          "data": {
            "image/png": "[encoded data removed]",
            "text/plain": [
              "<Figure size 800x600 with 1 Axes>"
            ]
          },
          "metadata": {},
          "output_type": "display_data"
        }
      ],
      "source": [
        "import matplotlib.pyplot as plt\n",
        "import seaborn as sns\n",
        "from sklearn.metrics import roc_curve,roc_auc_score\n",
        "\n",
        "# Tính toán các giá trị cần thiết cho biểu đồ ROC\n",
        "y_pred_proba = RandomForest.predict_proba(x_test)[:, 1]\n",
        "fpr, tpr, thresholds = roc_curve(y_test, y_pred_proba)\n",
        "roc_auc = roc_auc_score(y_test, y_pred_proba)\n",
        "\n",
        "# Vẽ biểu đồ ROC\n",
        "plt.figure(figsize=(8, 6))\n",
        "plt.plot(fpr, tpr, color='blue', lw=2, label=f'ROC curve (AUC = {roc_auc:.2f})')\n",
        "plt.plot([0, 1], [0, 1], color='grey', lw=2, linestyle='--')\n",
        "plt.xlim([0.0, 1.0])\n",
        "plt.ylim([0.0, 1.05])\n",
        "plt.xlabel('False Positive Rate')\n",
        "plt.ylabel('True Positive Rate')\n",
        "plt.title('Receiver Operating Characteristic (ROC) Curve')\n",
        "plt.legend(loc=\"lower right\")\n",
        "plt.show()"
      ]
    },
    {
      "cell_type": "markdown",
      "metadata": {
        "id": "qMbZYJwPvjWU"
      },
      "source": [
        "##### Dự đoán từ đầu vào"
      ]
    },
    {
      "cell_type": "code",
      "execution_count": null,
      "metadata": {
        "colab": {
          "base_uri": "https://localhost:8080/"
        },
        "id": "Uvv6rC0lvnlu",
        "outputId": "2c6f3137-4217-4bc2-bd04-8daaf699e4ab"
      },
      "outputs": [
        {
          "name": "stdout",
          "output_type": "stream",
          "text": [
            "Nhập giá trị cho Age: 65\n",
            "Nhập giá trị cho Gender: 0\n",
            "Nhập giá trị cho Total_Bilirubin: 0.7\n",
            "Nhập giá trị cho Direct_Bilirubin: 0.1\n",
            "Nhập giá trị cho Alkaline_Phosphotase: 187\n",
            "Nhập giá trị cho Alamine_Aminotransferase: 16\n",
            "Nhập giá trị cho Aspartate_Aminotransferase: 18\n",
            "Nhập giá trị cho Total_Protiens: 6.8\n",
            "Nhập giá trị cho Albumin: 3.3\n",
            "Nhập giá trị cho Albumin_and_Globulin_Ratio: 0.9\n",
            "Dự đoán: Mắc bệnh\n"
          ]
        }
      ],
      "source": [
        "import numpy as np\n",
        "import joblib\n",
        "\n",
        "# Load mô hình và scaler\n",
        "model = joblib.load('random_forest_model.pkl')\n",
        "scaler = joblib.load('scaler.pkl')\n",
        "\n",
        "# Nhập các chỉ số từ người dùng\n",
        "def get_user_input():\n",
        "    feature_names = [\n",
        "        \"Age\", \"Gender\", \"Total_Bilirubin\", \"Direct_Bilirubin\", \"Alkaline_Phosphotase\",\n",
        "        \"Alamine_Aminotransferase\", \"Aspartate_Aminotransferase\", \"Total_Protiens\",\n",
        "        \"Albumin\", \"Albumin_and_Globulin_Ratio\"\n",
        "    ]\n",
        "    user_input = []\n",
        "    for feature in feature_names:\n",
        "        value = float(input(f\"Nhập giá trị cho {feature}: \"))\n",
        "        user_input.append(value)\n",
        "    return np.array(user_input).reshape(1, -1)\n",
        "\n",
        "# Nhận dữ liệu đầu vào từ người dùng\n",
        "user_input = get_user_input()\n",
        "\n",
        "# Chuẩn hóa dữ liệu đầu vào\n",
        "user_input_scaled = scaler.transform(user_input)\n",
        "\n",
        "# Dự đoán\n",
        "prediction = model.predict(user_input_scaled)\n",
        "\n",
        "# In kết quả\n",
        "if prediction[0] == 1:\n",
        "    print(\"Dự đoán: Mắc bệnh\")\n",
        "else:\n",
        "    print(\"Dự đoán: Không mắc bệnh\")\n"
      ]
    },
    {
      "cell_type": "code",
      "execution_count": null,
      "metadata": {
        "colab": {
          "base_uri": "https://localhost:8080/"
        },
        "id": "5flhimVAklwe",
        "outputId": "01eb6672-ff2b-4300-ac3f-6b8ec9593549"
      },
      "outputs": [
        {
          "name": "stdout",
          "output_type": "stream",
          "text": [
            "F1-score: 0.8378378378378378\n"
          ]
        }
      ],
      "source": [
        "from sklearn.metrics import f1_score\n",
        "f1_rf = f1_score(y_test, y_pred)\n",
        "\n",
        "# In ra chỉ số F1-score\n",
        "print('F1-score:', f1_rf)"
      ]
    },
    {
      "cell_type": "code",
      "execution_count": null,
      "metadata": {
        "colab": {
          "base_uri": "https://localhost:8080/"
        },
        "id": "4S-hRa2ZiaZd",
        "outputId": "e3f26aed-5e34-45a2-8736-75c3374729d0"
      },
      "outputs": [
        {
          "name": "stdout",
          "output_type": "stream",
          "text": [
            "Jaccard: 0.6842105263157895\n"
          ]
        }
      ],
      "source": [
        "from sklearn.ensemble import RandomForestClassifier\n",
        "from sklearn.metrics import jaccard_score\n",
        "\n",
        "# Xây dựng mô hình Random Forest\n",
        "liverDisease_rf = RandomForestClassifier()\n",
        "\n",
        "# Huấn luyện mô hình trên tập huấn luyện\n",
        "liverDisease_rf.fit(x_train, y_train)\n",
        "\n",
        "# Dự đoán nhãn trên tập kiểm tra\n",
        "rf_yhat = liverDisease_rf.predict(x_test)\n",
        "\n",
        "# Tính chỉ số Jaccard\n",
        "rf_ja = jaccard_score(y_test, rf_yhat)\n",
        "\n",
        "print(\"Jaccard:\",rf_ja)\n"
      ]
    },
    {
      "cell_type": "markdown",
      "metadata": {
        "id": "F_vaNU2Ukren"
      },
      "source": [
        "### KNN"
      ]
    },
    {
      "cell_type": "code",
      "execution_count": null,
      "metadata": {
        "colab": {
          "base_uri": "https://localhost:8080/"
        },
        "id": "8cM0vO45kXDH",
        "outputId": "27d6fbd9-6810-4f95-ef17-8cac99f0e41b"
      },
      "outputs": [
        {
          "name": "stdout",
          "output_type": "stream",
          "text": [
            "Accuracy của KNN: 0.7457627118644068\n",
            "F1-score của KNN: 0.6938775510204082\n",
            "Jaccard score của KNN: 0.53125\n"
          ]
        }
      ],
      "source": [
        "from sklearn.metrics import accuracy_score, f1_score, jaccard_score\n",
        "from sklearn.neighbors import KNeighborsClassifier\n",
        "\n",
        "# Xây dựng mô hình KNN\n",
        "knn = KNeighborsClassifier()\n",
        "knn.fit(x_train, y_train)\n",
        "\n",
        "# Dự đoán nhãn trên tập kiểm tra\n",
        "y_pred_knn = knn.predict(x_test)\n",
        "\n",
        "# Tính và lưu chỉ số Accuracy\n",
        "accuracy_knn = accuracy_score(y_test, y_pred_knn)\n",
        "\n",
        "# Tính và lưu chỉ số F1-score\n",
        "f1_knn = f1_score(y_test, y_pred_knn)\n",
        "\n",
        "# Tính và lưu chỉ số Jaccard\n",
        "jaccard_knn = jaccard_score(y_test, y_pred_knn)\n",
        "\n",
        "# In ra các chỉ số\n",
        "print(\"Accuracy của KNN:\", accuracy_knn)\n",
        "print(\"F1-score của KNN:\", f1_knn)\n",
        "print(\"Jaccard score của KNN:\", jaccard_knn)\n"
      ]
    },
    {
      "cell_type": "markdown",
      "metadata": {
        "id": "3yJRxlqElG4P"
      },
      "source": [
        "### Decision Tree"
      ]
    },
    {
      "cell_type": "code",
      "execution_count": null,
      "metadata": {
        "colab": {
          "base_uri": "https://localhost:8080/"
        },
        "id": "YCMXfkUslJ3H",
        "outputId": "188c2037-9d89-4121-ea30-04402cb55e2d"
      },
      "outputs": [
        {
          "name": "stdout",
          "output_type": "stream",
          "text": [
            "Accuracy của Decision Tree: 0.7627118644067796\n",
            "F1-score của Decision Tree: 0.7431192660550457\n",
            "Jaccard score của Decision Tree: 0.5912408759124088\n"
          ]
        }
      ],
      "source": [
        "from sklearn.metrics import accuracy_score, f1_score, jaccard_score\n",
        "from sklearn.tree import DecisionTreeClassifier\n",
        "\n",
        "# Xây dựng mô hình Decision Tree\n",
        "decision_tree = DecisionTreeClassifier()\n",
        "decision_tree.fit(x_train, y_train)\n",
        "\n",
        "# Dự đoán nhãn trên tập kiểm tra\n",
        "y_pred_dt = decision_tree.predict(x_test)\n",
        "\n",
        "# Tính và lưu chỉ số Accuracy\n",
        "accuracy_dt = accuracy_score(y_test, y_pred_dt)\n",
        "\n",
        "# Tính và lưu chỉ số F1-score\n",
        "f1_dt = f1_score(y_test, y_pred_dt)\n",
        "\n",
        "# Tính và lưu chỉ số Jaccard\n",
        "jaccard_dt = jaccard_score(y_test, y_pred_dt)\n",
        "\n",
        "# In ra các chỉ số\n",
        "print(\"Accuracy của Decision Tree:\", accuracy_dt)\n",
        "print(\"F1-score của Decision Tree:\", f1_dt)\n",
        "print(\"Jaccard score của Decision Tree:\", jaccard_dt)\n"
      ]
    },
    {
      "cell_type": "markdown",
      "metadata": {
        "id": "Iu9ymYOllYXV"
      },
      "source": [
        "### LogisticRegression"
      ]
    },
    {
      "cell_type": "code",
      "execution_count": null,
      "metadata": {
        "colab": {
          "base_uri": "https://localhost:8080/"
        },
        "id": "tDyAjIh_laMH",
        "outputId": "1b548c99-5624-4baf-98bf-933b8be86723"
      },
      "outputs": [
        {
          "name": "stdout",
          "output_type": "stream",
          "text": [
            "Accuracy của Logistic Regression: 0.7627118644067796\n",
            "F1-score của Logistic Regression: 0.7021276595744681\n",
            "Jaccard score của Logistic Regression: 0.5409836065573771\n"
          ]
        },
        {
          "name": "stderr",
          "output_type": "stream",
          "text": [
            "/usr/local/lib/python3.10/dist-packages/sklearn/linear_model/_logistic.py:458: ConvergenceWarning: lbfgs failed to converge (status=1):\n",
            "STOP: TOTAL NO. of ITERATIONS REACHED LIMIT.\n",
            "\n",
            "Increase the number of iterations (max_iter) or scale the data as shown in:\n",
            "    https://scikit-learn.org/stable/modules/preprocessing.html\n",
            "Please also refer to the documentation for alternative solver options:\n",
            "    https://scikit-learn.org/stable/modules/linear_model.html#logistic-regression\n",
            "  n_iter_i = _check_optimize_result(\n"
          ]
        }
      ],
      "source": [
        "from sklearn.metrics import accuracy_score, f1_score, jaccard_score\n",
        "from sklearn.linear_model import LogisticRegression\n",
        "\n",
        "# Xây dựng mô hình Logistic Regression\n",
        "logistic_regression = LogisticRegression()\n",
        "logistic_regression.fit(x_train, y_train)\n",
        "\n",
        "# Dự đoán nhãn trên tập kiểm tra\n",
        "y_pred_lr = logistic_regression.predict(x_test)\n",
        "\n",
        "# Tính và lưu chỉ số Accuracy\n",
        "accuracy_lr = accuracy_score(y_test, y_pred_lr)\n",
        "\n",
        "# Tính và lưu chỉ số F1-score\n",
        "f1_lr = f1_score(y_test, y_pred_lr)\n",
        "\n",
        "# Tính và lưu chỉ số Jaccard\n",
        "jaccard_lr = jaccard_score(y_test, y_pred_lr)\n",
        "\n",
        "# In ra các chỉ số\n",
        "print(\"Accuracy của Logistic Regression:\", accuracy_lr)\n",
        "print(\"F1-score của Logistic Regression:\", f1_lr)\n",
        "print(\"Jaccard score của Logistic Regression:\", jaccard_lr)"
      ]
    },
    {
      "cell_type": "markdown",
      "metadata": {
        "id": "wDBt2-oenKC_"
      },
      "source": [
        "### So sánh kết quả"
      ]
    },
    {
      "cell_type": "code",
      "execution_count": null,
      "metadata": {
        "colab": {
          "base_uri": "https://localhost:8080/"
        },
        "id": "6WrCWPY2mou4",
        "outputId": "a425deb6-f086-43b9-92b6-9b1d3d88e7dd"
      },
      "outputs": [
        {
          "name": "stderr",
          "output_type": "stream",
          "text": [
            "/usr/local/lib/python3.10/dist-packages/sklearn/linear_model/_logistic.py:458: ConvergenceWarning: lbfgs failed to converge (status=1):\n",
            "STOP: TOTAL NO. of ITERATIONS REACHED LIMIT.\n",
            "\n",
            "Increase the number of iterations (max_iter) or scale the data as shown in:\n",
            "    https://scikit-learn.org/stable/modules/preprocessing.html\n",
            "Please also refer to the documentation for alternative solver options:\n",
            "    https://scikit-learn.org/stable/modules/linear_model.html#logistic-regression\n",
            "  n_iter_i = _check_optimize_result(\n"
          ]
        },
        {
          "name": "stdout",
          "output_type": "stream",
          "text": [
            "Kết quả:\n",
            "                     Accuracy  F1-score   Jaccard\n",
            "Logistic Regression  0.762712  0.702128  0.540984\n",
            "Decision Tree        0.771186  0.758929  0.611511\n",
            "KNN                  0.745763  0.693878  0.531250\n",
            "Random Forest        0.843220  0.831050  0.710938\n"
          ]
        }
      ],
      "source": [
        "# Khởi tạo các mô hình\n",
        "models = {\n",
        "    \"Logistic Regression\": LogisticRegression(),\n",
        "    \"Decision Tree\": DecisionTreeClassifier(),\n",
        "    \"KNN\": KNeighborsClassifier(),\n",
        "    \"Random Forest\": RandomForestClassifier()\n",
        "}\n",
        "\n",
        "# Khởi tạo dataframe để lưu kết quả\n",
        "results = pd.DataFrame(columns=[\"Accuracy\", \"F1-score\", \"Jaccard\"])\n",
        "\n",
        "# Lặp qua từng mô hình để tính và lưu các chỉ số\n",
        "for name, model in models.items():\n",
        "    model.fit(x_train, y_train)\n",
        "    y_pred = model.predict(x_test)\n",
        "    accuracy = accuracy_score(y_test, y_pred)\n",
        "    f1 = f1_score(y_test, y_pred)\n",
        "    jaccard = jaccard_score(y_test, y_pred)\n",
        "    results.loc[name] = [accuracy, f1, jaccard]\n",
        "\n",
        "# Vẽ bảng hiển thị kết quả\n",
        "print(\"Kết quả:\")\n",
        "print(results)"
      ]
    },
    {
      "cell_type": "markdown",
      "metadata": {
        "id": "clKlo8tQl3tj"
      },
      "source": [
        "Kết quả của nghiên cứu khác:\n",
        "\n",
        "![Kết quả nghiên cứu khác](https://drive.google.com/uc?export=view&id=1ce3Q76NFiXZKb6pgGrD4d3Y8Ff-hLbCe)"
      ]
    },
    {
      "cell_type": "markdown",
      "metadata": {
        "id": "Vg5yq-QInU3n"
      },
      "source": [
        "- **Accuracy:** Đây là tỷ lệ phần trăm giữa số lượng dự đoán chính xác và tổng số dự đoán. Nó cho biết mức độ chính xác của mô hình trong việc dự đoán nhãn của các điểm dữ liệu.\n",
        "- **F1-score:** Đây là một số đo kết hợp giữa độ chính xác (precision) và độ phủ (recall) của mô hình. Nó thường được sử dụng khi dữ liệu mất cân bằng và mức độ quan trọng của việc phân loại sai các lớp là khác nhau.\n",
        "- **Jaccard:** Còn được gọi là chỉ số Jaccard, là một phép đo độ tương đồng giữa hai tập hợp, đo bằng tỷ lệ giữa kích thước tập hợp giao nhau và kích thước tập hợp hợp nhất của chúng. Trong ngữ cảnh phân loại, Jaccard score được sử dụng để đo sự tương đồng giữa tập hợp các nhãn dự đoán và tập hợp các nhãn thực tế của mô hình.\n"
      ]
    }
  ],
  "metadata": {
    "accelerator": "GPU",
    "colab": {
      "gpuType": "T4",
      "provenance": []
    },
    "kernelspec": {
      "display_name": "Python 3",
      "name": "python3"
    },
    "language_info": {
      "codemirror_mode": {
        "name": "ipython",
        "version": 3
      },
      "file_extension": ".py",
      "mimetype": "text/x-python",
      "name": "python",
      "nbconvert_exporter": "python",
      "pygments_lexer": "ipython3",
      "version": "3.12.1"
    }
  },
  "nbformat": 4,
  "nbformat_minor": 0
}
